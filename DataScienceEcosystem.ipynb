{
  "nbformat": 4,
  "nbformat_minor": 0,
  "metadata": {
    "colab": {
      "provenance": [],
      "authorship_tag": "ABX9TyPUwA7z4U3JLIktepmL0t8l",
      "include_colab_link": true
    },
    "kernelspec": {
      "name": "python3",
      "display_name": "Python 3"
    },
    "language_info": {
      "name": "python"
    }
  },
  "cells": [
    {
      "cell_type": "markdown",
      "metadata": {
        "id": "view-in-github",
        "colab_type": "text"
      },
      "source": [
        "<a href=\"https://colab.research.google.com/github/abhi23shek/DataScienceEcosystem/blob/main/DataScienceEcosystem.ipynb\" target=\"_parent\"><img src=\"https://colab.research.google.com/assets/colab-badge.svg\" alt=\"Open In Colab\"/></a>"
      ]
    },
    {
      "cell_type": "markdown",
      "source": [
        "# Data Science Tools and Ecosystem"
      ],
      "metadata": {
        "id": "ehGh5vaQhBgf"
      }
    },
    {
      "cell_type": "markdown",
      "source": [
        "## In this notebook, Data Science Tools and Ecosystem are summarized."
      ],
      "metadata": {
        "id": "nTxztXAahcHV"
      }
    },
    {
      "cell_type": "markdown",
      "source": [
        "## Objectives:\n",
        "* List popular languages for Data Science\n",
        "* Commonly used libraries used by Data Scientists\n",
        "* Data Science Tools\n",
        "* Evaluating arithmetic expressions in Python\n",
        "* convert minutes to hours"
      ],
      "metadata": {
        "id": "c037OBnRmbke"
      }
    },
    {
      "cell_type": "markdown",
      "source": [
        "## Some of the popular languages that Data Scientists use are:\n",
        "1. Python\n",
        "1. R\n",
        "1. Scala"
      ],
      "metadata": {
        "id": "uwZz6mMvh8WL"
      }
    },
    {
      "cell_type": "markdown",
      "source": [
        "## Some of the commonly used libraries used by Data Scientists include:\n",
        "1. Matplotlip\n",
        "1. Pandas\n",
        "1. NumPy"
      ],
      "metadata": {
        "id": "ktRKiyz7itOg"
      }
    },
    {
      "cell_type": "markdown",
      "source": [
        "Data Science Tools |  \n",
        "-------------------|\n",
        "Jupyter Notebooks      |\n",
        "Hadoop      |\n",
        "Spark |"
      ],
      "metadata": {
        "id": "A4BnJePZky9D"
      }
    },
    {
      "cell_type": "markdown",
      "source": [
        "### Below are a few examples of evaluating arithmetic expressions in Python.\n"
      ],
      "metadata": {
        "id": "wH5R_ZYWk0c_"
      }
    },
    {
      "cell_type": "markdown",
      "source": [
        "#### This a simple arithmetic expression to mutiply then add integers."
      ],
      "metadata": {
        "id": "0CZkQVA6lXrP"
      }
    },
    {
      "cell_type": "code",
      "source": [
        "(3*4)+5"
      ],
      "metadata": {
        "colab": {
          "base_uri": "https://localhost:8080/"
        },
        "id": "Ok9PVg-zlafB",
        "outputId": "2ffb5361-57ed-438d-849f-7d205b9c7367"
      },
      "execution_count": 4,
      "outputs": [
        {
          "output_type": "execute_result",
          "data": {
            "text/plain": [
              "17"
            ]
          },
          "metadata": {},
          "execution_count": 4
        }
      ]
    },
    {
      "cell_type": "markdown",
      "source": [
        "#### This will convert 200 minutes to hours by diving by 60"
      ],
      "metadata": {
        "id": "TiEou66Xl3vO"
      }
    },
    {
      "cell_type": "code",
      "source": [
        "200/6"
      ],
      "metadata": {
        "colab": {
          "base_uri": "https://localhost:8080/"
        },
        "id": "LzPhm6nhl8NZ",
        "outputId": "f062aa61-d8fa-4a4f-94be-60fd9f200f81"
      },
      "execution_count": 5,
      "outputs": [
        {
          "output_type": "execute_result",
          "data": {
            "text/plain": [
              "33.333333333333336"
            ]
          },
          "metadata": {},
          "execution_count": 5
        }
      ]
    },
    {
      "cell_type": "markdown",
      "source": [
        "## Author\n",
        "Abhishek"
      ],
      "metadata": {
        "id": "NDOpyWd9negr"
      }
    }
  ]
}